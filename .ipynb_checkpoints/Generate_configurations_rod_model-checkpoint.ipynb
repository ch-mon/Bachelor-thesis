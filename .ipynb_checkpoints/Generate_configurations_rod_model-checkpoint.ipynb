{
 "cells": [
  {
   "cell_type": "code",
   "execution_count": 1,
   "metadata": {},
   "outputs": [],
   "source": [
    "## Import packages\n",
    "import numpy as np\n",
    "import math as m"
   ]
  },
  {
   "cell_type": "code",
   "execution_count": 2,
   "metadata": {},
   "outputs": [],
   "source": [
    "## Control parameters\n",
    "L = 8 # Rod length\n",
    "M = 64 # Lattice size\n",
    "M_2 = M*M\n",
    "\n",
    "T_therm = 10**(2) # Termalization steps\n",
    "T_values = 10**(3) # Amount of configurations to save\n",
    "interval = 10**(2) # Amount of MC-steps between two saved configurations\n",
    "\n",
    "activities = np.array([0.56, 0.84, 1.1]) # Different activities to evaluate"
   ]
  },
  {
   "cell_type": "code",
   "execution_count": 3,
   "metadata": {},
   "outputs": [],
   "source": [
    "## Neigbour implementation\n",
    "nbr = {}\n",
    "for n in np.arange(M_2):\n",
    "    pos_h, pos_v = n, n\n",
    "    nbr[n] = [[pos_h], [pos_v]]\n",
    "    \n",
    "    for i in np.arange(L-1):\n",
    "        # Horizontal neigbours\n",
    "        if (pos_h+1)%M == 0:\n",
    "            pos_h = (pos_h//M)*M\n",
    "            nbr[n][0].append(pos_h)\n",
    "        else:\n",
    "            pos_h += 1\n",
    "            nbr[n][0].append(pos_h)\n",
    "        \n",
    "        # Vertical neigbours\n",
    "        if (pos_v+M) >= M_2:\n",
    "            pos_v = pos_v%M\n",
    "            nbr[n][1].append(pos_v)\n",
    "        else:\n",
    "            pos_v += M\n",
    "            nbr[n][1].append(pos_v)"
   ]
  },
  {
   "cell_type": "code",
   "execution_count": 4,
   "metadata": {},
   "outputs": [],
   "source": [
    "## Insertion function\n",
    "def insertion(lattice, rods_list, N_h, N_v):\n",
    "    pos = np.random.randint(M_2) # Determine a random position\n",
    "    \n",
    "    if np.random.random() < 0.5: # Horizontal insertion\n",
    "        if not any(lattice[nbr[pos][0]]): # if unoccupied\n",
    "            p_ins = min(1, (2*M_2*activity)/(N_h + N_v + 1))\n",
    "            if np.random.random() < p_ins:\n",
    "                lattice[nbr[pos][0]] = 1 # Mark rod positions as occupied\n",
    "                rods_list.append([pos, 0]) # Expand rod list\n",
    "                N_h += 1\n",
    "    \n",
    "    else: # Vertical insertion\n",
    "        if not any(lattice[nbr[pos][1]]):\n",
    "            p_ins = min(1, (2*M_2*activity)/(N_h + N_v + 1))\n",
    "            if np.random.random() < p_ins:\n",
    "                lattice[nbr[pos][1]] = 1 # Mark rod positions as occupied\n",
    "                rods_list.append([pos, 1]) # Expand rod list\n",
    "                N_v += 1\n",
    "                \n",
    "    return lattice, rods_list, N_h, N_v"
   ]
  },
  {
   "cell_type": "code",
   "execution_count": 5,
   "metadata": {},
   "outputs": [],
   "source": [
    "## Deletion function\n",
    "def deletion(lattice, rods_list, N_h, N_v):\n",
    "    p_del = min(1, (N_h + N_v + 1)/(2*M_2*activity))\n",
    "    \n",
    "    if np.random.random() < p_del:\n",
    "        rod = np.random.randint(len(rods_list)) # Select a random rod\n",
    "        lattice[nbr[rods_list[rod][0]][rods_list[rod][1]]] = 0 # Delete it from the lattice\n",
    "\n",
    "        if rods_list[rod][1]:\n",
    "            N_v -= 1\n",
    "        else:\n",
    "            N_h -= 1\n",
    "        del rods_list[rod] # Delete it from the list\n",
    "    \n",
    "    return lattice, rods_list, N_h, N_v"
   ]
  },
  {
   "cell_type": "code",
   "execution_count": 6,
   "metadata": {},
   "outputs": [
    {
     "name": "stdout",
     "output_type": "stream",
     "text": [
      "Saved lattices for activity 56\n",
      "Saved lattices for activity 84\n",
      "Saved lattices for activity 110\n"
     ]
    }
   ],
   "source": [
    "## Actual simulation\n",
    "for counter, activity in enumerate(activities):\n",
    "    lattice = np.zeros(M_2) # Initalize an empty lattice\n",
    "    lattice_save = np.zeros([T_values, M_2]) # Variable which is going to contain the different configurations\n",
    "    rods_list = [] # list which contains all positions of the rods and their orientation\n",
    "    N_h = 0 # Current amount of horizontal rods in the system\n",
    "    N_v = 0 # Current amount of vertical rods in the system\n",
    "    \n",
    "    # Termalization\n",
    "    for t in range(T_therm):\n",
    "        if np.random.random() < 0.5: # Insert rod\n",
    "            [lattice, rods_list, N_h, N_v] = insertion(lattice, rods_list, N_h, N_v)\n",
    "        elif rods_list: # Remove rod\n",
    "            [lattice, rods_list, N_h, N_v] = deletion(lattice, rods_list, N_h, N_v)\n",
    "    \n",
    "    # Actual Measurement\n",
    "    for t in range(T_values):\n",
    "        for t_wait in range(interval):\n",
    "            if np.random.random() < 0.5: # Insert rod\n",
    "                [lattice, rods_list, N_h, N_v] = insertion(lattice, rods_list, N_h, N_v)\n",
    "            elif rods_list: # Remove rod\n",
    "                [lattice, rods_list, N_h, N_v] = deletion(lattice, rods_list, N_h, N_v)\n",
    "    \n",
    "        # Bring the lattice snapshot in the desired representation\n",
    "        lattice_copy = np.zeros(M_2)\n",
    "        for rod in rods_list:\n",
    "            if rod[1]: # Vertical\n",
    "                lattice_copy[nbr[rod[0]][1]] = np.arange(20,20+L)\n",
    "            else: # Horizontal\n",
    "                lattice_copy[nbr[rod[0]][0]] = np.arange(10,10+L)\n",
    "        \n",
    "        lattice_save[t] = lattice_copy\n",
    "        \n",
    "    np.save('activity_' + str(int(activity*100)), lattice_save)\n",
    "    print('Saved lattices for activity ' + str(int(activity*100)))"
   ]
  }
 ],
 "metadata": {
  "kernelspec": {
   "display_name": "Python 3",
   "language": "python",
   "name": "python3"
  },
  "language_info": {
   "codemirror_mode": {
    "name": "ipython",
    "version": 3
   },
   "file_extension": ".py",
   "mimetype": "text/x-python",
   "name": "python",
   "nbconvert_exporter": "python",
   "pygments_lexer": "ipython3",
   "version": "3.6.5"
  }
 },
 "nbformat": 4,
 "nbformat_minor": 2
}
