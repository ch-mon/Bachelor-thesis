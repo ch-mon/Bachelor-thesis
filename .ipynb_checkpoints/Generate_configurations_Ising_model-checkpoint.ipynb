{
 "cells": [
  {
   "cell_type": "code",
   "execution_count": 1,
   "metadata": {},
   "outputs": [],
   "source": [
    "## Import packages\n",
    "import numpy as np\n",
    "import math as m"
   ]
  },
  {
   "cell_type": "code",
   "execution_count": 2,
   "metadata": {},
   "outputs": [],
   "source": [
    "## Control parameters\n",
    "M = 8 # Lattice size\n",
    "M_2 = M*M\n",
    "\n",
    "T_therm = 10 # Termalization steps\n",
    "T_values = 100 # Amount of data points to take\n",
    "interval = 5 # Amount of MC−steps between two saved configurations\n",
    "\n",
    "betas = np.arange(0, 1, 0.1) # Different inv. temperatures to evaluate"
   ]
  },
  {
   "cell_type": "code",
   "execution_count": 3,
   "metadata": {},
   "outputs": [],
   "source": [
    "## Nearest neigbour implementation\n",
    "neigbours = np.array([[(i//M)*M+(i+1)%M, (i+M)%M_2, (i//M)*M+(i-1)%M, (i-M)%M_2] for i in np.arange(M_2)])"
   ]
  },
  {
   "cell_type": "code",
   "execution_count": 4,
   "metadata": {},
   "outputs": [],
   "source": [
    "## Wolff−Cluster algorithm\n",
    "def sweep_WC(lattice, p):\n",
    "    i = np.random.randint(0, M_2)\n",
    "    C, Pocket = [i], [i] # C is the cluster of spins which is being flipped\n",
    "    while Pocket:\n",
    "        for nbr in neigbours[Pocket[0]]: # \"neigbours\" variable contains every neigbour of each spin\n",
    "            if nbr not in C:\n",
    "                if lattice[nbr] == lattice[Pocket[0]]:\n",
    "                    if np.random.random() < p:\n",
    "                        Pocket.append(nbr)\n",
    "                        C.append(nbr)\n",
    "        del Pocket[0]\n",
    "    lattice[C] = -lattice[C]\n",
    "    return lattice"
   ]
  },
  {
   "cell_type": "code",
   "execution_count": 5,
   "metadata": {},
   "outputs": [
    {
     "name": "stdout",
     "output_type": "stream",
     "text": [
      "Saved configurations for beta = 0.0\n",
      "Saved configurations for beta = 0.1\n",
      "Saved configurations for beta = 0.2\n",
      "Saved configurations for beta = 0.3\n",
      "Saved configurations for beta = 0.4\n",
      "Saved configurations for beta = 0.5\n",
      "Saved configurations for beta = 0.6\n",
      "Saved configurations for beta = 0.7\n",
      "Saved configurations for beta = 0.8\n",
      "Saved configurations for beta = 0.9\n"
     ]
    }
   ],
   "source": [
    "## Actual simulation\n",
    "for j, beta in enumerate(betas):\n",
    "    lattice = np.random.choice([-1, 1], M_2)\n",
    "    configurations = np.zeros([T_values, M_2])\n",
    "    \n",
    "    p = 1 - m.exp(-2.0*beta)\n",
    "    \n",
    "    # Thermalization\n",
    "    for t in np.arange(T_therm):\n",
    "        lattice = sweep_WC(lattice, p)\n",
    "    \n",
    "    # Eliminate Autocorrelation\n",
    "    configurations[0, :] = lattice[:]\n",
    "    for i in np.arange(1, T_values):\n",
    "        for n in np.arange(interval):\n",
    "            lattice = sweep_WC(lattice, p)\n",
    "        \n",
    "        configurations[i, :] = lattice[:]\n",
    "    \n",
    "    # Save configurations for specific inv. temperature\n",
    "    np.save('beta_' + str(int(10*beta)), configurations)\n",
    "    print(\"Saved configurations for beta = \" + str(np.round(beta, 1)))"
   ]
  }
 ],
 "metadata": {
  "kernelspec": {
   "display_name": "Python 3",
   "language": "python",
   "name": "python3"
  },
  "language_info": {
   "codemirror_mode": {
    "name": "ipython",
    "version": 3
   },
   "file_extension": ".py",
   "mimetype": "text/x-python",
   "name": "python",
   "nbconvert_exporter": "python",
   "pygments_lexer": "ipython3",
   "version": "3.6.5"
  }
 },
 "nbformat": 4,
 "nbformat_minor": 2
}
