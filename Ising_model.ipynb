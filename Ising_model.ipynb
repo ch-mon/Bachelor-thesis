import numpy as np
import math as m
## Control parameters ##
M = 8 #lattice size
M_2 = M*M
T_therm = 10 #Termalization steps
T_values = 100 # Amount of data points to take
interval = 5 #amount of MC􀀀steps between two saved configurations
betas = np. arange(0 ,1 ,0.1) # different inv. temperatures to evalute

## Nearest neigbour implementation ##

neigbours = np. array ( [ [ ( i//M)*M+(i+1)%M, ( i+M)%M_2,
                      ( i//M)*M+(i-1)%M, ( i-M)%M_2] for i in np. arange(M_2) ] )
                      
## Wolff-Cluster algorithm ##
def sweep_WC( lattice ) :
  i = np.random. randint(0 ,M**2)
  C, Pocket = [ i ] , [ i ] #C i s the cluster of spins which i s being flipped
  while Pocket:
  for nbr in neigbours [Pocket [ 0 ] ] : #neigbours contains every neigbour of each spin
  i f nbr not in C:
  i f lattice [nbr] == lattice [Pocket [ 0 ] ] :
  i f np.random.random() < p:
  Pocket.append(nbr)
  C.append(nbr)
  del Pocket[ 0 ]
  lattice [C] =􀀀lattice [C]
  return lattice
## Actual simulation ##
for j , beta in enumerate(betas ) :
lattice = np.random. choice([􀀀1 ,1] , M_2)
configurations = np. zeros ( [T_values, M_2] )
p = 1 􀀀 m.exp(􀀀2.0*beta)
# Thermalization
for t in np. arange(T_therm) :
lattice = sweep_WC( lattice )
# Eliminate Autocorrelation
configurations [ 0 , : ] = lattice [ : ]
for i in np. arange(1 , T_values) :
for n in np. arange( interval ) :
lattice = sweep_WC( lattice )
47
configurations [ i , : ] = lattice [ : ]
np. save('beta' + str(beta) , configurations)
